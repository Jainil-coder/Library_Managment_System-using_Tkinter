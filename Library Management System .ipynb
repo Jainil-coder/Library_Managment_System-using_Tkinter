{
 "cells": [
  {
   "cell_type": "code",
   "execution_count": 1,
   "metadata": {},
   "outputs": [],
   "source": [
    "from tkinter import *\n",
    "from tkinter import messagebox\n",
    "def call(): messagebox.showinfo(\"Success\",\"You have successfully submitted your data.\")\n",
    "top=Tk()\n",
    "clicked = StringVar()\n",
    "clicked.set('Login')\n",
    "login = OptionMenu(top, clicked,\"LOGIN\" ,\"NEW\", \"SIGNED IN\")\n",
    "login.grid(row=0,column=0)\n",
    "click = StringVar()\n",
    "click.set('Help')\n",
    "help = OptionMenu(top, click,  \"HELP\", \"REPORT\", \"FEEDBACK\")\n",
    "help.grid(row=0,column=1)\n",
    "clicked = StringVar()\n",
    "clicked.set('Available Books')\n",
    "books = OptionMenu(top, clicked, \"GV.Kumbhojkar-Maths 1\", \"GV.Kumbhojkar-Maths 2\",\"TECH-Max\",\"Engineering Graphics-NH.Dubey\",\"Engineering Graphics-ND.Bhatt\",\"TECH-Mechanics\",\"Visit Website for more.....\")\n",
    "books.grid(row=0,column=2)\n",
    "click = StringVar()\n",
    "click.set('DVD Available')\n",
    "CDs = OptionMenu(top, click, \"FE CD 1\", \"SE CD 2\", \"TE CD 3\",\"BE CD 4\")\n",
    "CDs.grid(row=0,column=3)\n",
    "L=Label(top,text=\"LIBRARY MANAGEMENT SYSTEM              \",fg=\"green\",font=\"BoldArial\")\n",
    "L1=Label(top,text=\"User Name:\",fg=\"black\")\n",
    "L2=Label(top,text=\"Student ID:\",fg=\"black\")\n",
    "L3=Label(top,text=\"Book issued: \",fg=\"black\")\n",
    "L.grid(row=1,column=2,sticky=W,pady=2)\n",
    "L1.grid(row=4,column=0,sticky=W,pady=2)\n",
    "L2.grid(row=5,column=0,sticky=W,pady=2)\n",
    "L3.grid(row=6,column=0,sticky=W,pady=2)\n",
    "E1=Entry(top,bd=5,fg=\"green\")\n",
    "E2=Entry(top,bd=5,fg=\"green\")\n",
    "E1.grid(row=4,column=1,pady=2)\n",
    "E2.grid(row=5,column=1,pady=2)\n",
    "E3=Entry(top,bd=5,fg=\"green\")\n",
    "E3.grid(row=6,column=1,sticky=W,pady=2)\n",
    "L4=Label(top,text=\"Entry Date:\",fg=\"black\")\n",
    "L4.grid(row=7,column=0,sticky=W,pady=2)\n",
    "s=Spinbox(top,from_=1 ,to=31)\n",
    "s1=Spinbox(top,from_=1 ,to=12)\n",
    "s2=Spinbox(top,from_=2000 ,to=2020)\n",
    "s.grid(row=7,column=1,pady=2)\n",
    "s1.grid(row=7,column=2,pady=2)\n",
    "s2.grid(row=7,column=3,pady=2)\n",
    "L5=Label(top,text=\"Due Date:\",fg=\"black\")\n",
    "L5.grid(row=8,column=0,sticky=W,pady=2)\n",
    "s=Spinbox(top,from_=1 ,to=31)\n",
    "s1=Spinbox(top,from_=1 ,to=12)\n",
    "s2=Spinbox(top,from_=2000 ,to=2020)\n",
    "s.grid(row=8,column=1,pady=2)\n",
    "s1.grid(row=8,column=2,pady=2)\n",
    "s2.grid(row=8,column=3,pady=2)\n",
    "button=Button(top, text=\"SUBMIT\",command=call)\n",
    "button.grid(row=9,column=0,pady=2)\n",
    "button=Button(top ,text=\"EXIT\",fg=\"red\",command=top.destroy)\n",
    "button.grid(row=10,column=3,pady=2)\n",
    "top.mainloop()"
   ]
  }
 ],
 "metadata": {
  "kernelspec": {
   "display_name": "Python 3",
   "language": "python",
   "name": "python3"
  },
  "language_info": {
   "codemirror_mode": {
    "name": "ipython",
    "version": 3
   },
   "file_extension": ".py",
   "mimetype": "text/x-python",
   "name": "python",
   "nbconvert_exporter": "python",
   "pygments_lexer": "ipython3",
   "version": "3.8.3"
  }
 },
 "nbformat": 4,
 "nbformat_minor": 4
}
